{
 "cells": [
  {
   "cell_type": "markdown",
   "metadata": {},
   "source": [
    "## Introduction"
   ]
  },
  {
   "cell_type": "code",
   "execution_count": null,
   "metadata": {},
   "outputs": [],
   "source": [
    "# Plotting time series data\n",
    "import matplotlib.pyplot as plt\n",
    "fig, ax = plt.subplots()\n",
    "\n",
    "ax.plot(climate_change.index, climate_change['co2'])\n",
    "ax.set_xlabel('Time')\n",
    "ax.set_ylabel('CO2 (ppm)')\n",
    "plt.show()\n",
    "\n",
    "# zooming in on a decade\n",
    "sixties = climate_change[\"1960-01-01\":\"1969-12-31\"]\n",
    "fig, ax = plt.subplots()\n",
    "ax.plot(sixties.index, sixties['co2'])\n",
    "ax.set_xlabel('Time')\n",
    "ax.set_ylabel('CO2 (ppm)')\n",
    "plt.show()\n",
    "\n",
    "# zooming in on a year\n",
    "sixty_nine = climate_change[\"1969-01-01\":\"1969-12-31\"]\n",
    "fig, ax = plt.subplots()\n",
    "ax.plot(sixty_nine.index, sixty_nine['co2'])\n",
    "ax.set_xlabel('Time')\n",
    "ax.set_ylabel('CO2 (ppm)')\n",
    "plt.show()\n"
   ]
  },
  {
   "cell_type": "markdown",
   "metadata": {},
   "source": [
    "### Read data with a time index\n",
    "pandas DataFrame objects can have an index that denotes time. This is useful because Matplotlib recognizes that these measurements represent time and labels the values on the axis accordingly.\n",
    "\n",
    "In this exercise, you will read data from a CSV file called `climate_change.csv` that contains measurements of CO2 levels and temperatures made on the 6th of every month from 1958 until 2016. You will use pandas' `read_csv` function.\n",
    "\n",
    "To designate the index as a DateTimeIndex, you will use the `parse_dates` and `index_col` key-word arguments both to parse this column as a variable that contains dates and also to designate it as the index for this DataFrame.\n",
    "\n",
    "By the way, if you haven't downloaded it already, check out the Matplotlib Cheat Sheet. It includes an overview of the most important concepts, functions and methods and might come in handy if you ever need a quick refresher!"
   ]
  },
  {
   "cell_type": "code",
   "execution_count": null,
   "metadata": {},
   "outputs": [],
   "source": [
    "# Import pandas\n",
    "import pandas as pd\n",
    "\n",
    "# Read the data from file using read_csv\n",
    "climate_change = pd.read_csv('climate_change.csv', parse_dates=[\"date\"], index_col=\"date\")"
   ]
  },
  {
   "cell_type": "markdown",
   "metadata": {},
   "source": [
    "### Plot time-series data\n",
    "To plot time-series data, we use the `Axes` object `plot` command. The first argument to this method are the values for the x-axis and the second argument are the values for the y-axis.\n",
    "\n",
    "This exercise provides data stored in a DataFrame called `climate_change`. This variable has a time-index with the dates of measurements and two data columns: `\"co2\"` and `\"relative_temp\"`.\n",
    "\n",
    "In this case, the index of the DataFrame would be used as the x-axis values and we will plot the values stored in the `\"relative_temp\"` column as the y-axis values. We will also properly label the x-axis and y-axis."
   ]
  },
  {
   "cell_type": "code",
   "execution_count": null,
   "metadata": {},
   "outputs": [],
   "source": [
    "import matplotlib.pyplot as plt\n",
    "fig, ax = plt.subplots()\n",
    "\n",
    "# Add the time-series for \"relative_temp\" to the plot\n",
    "ax.plot(climate_change.index, climate_change['relative_temp'])\n",
    "\n",
    "# Set the x-axis label\n",
    "ax.set_xlabel('Time')\n",
    "\n",
    "# Set the y-axis label\n",
    "ax.set_ylabel('Relative temperature (Celsius)')\n",
    "\n",
    "# Show the figure\n",
    "plt.show()"
   ]
  },
  {
   "cell_type": "markdown",
   "metadata": {},
   "source": [
    "### Using a time index to zoom in\n",
    "When a time-series is represented with a time index, we can use this index for the x-axis when plotting. We can also select a range of dates to zoom in on a particular period within the time-series using pandas' indexing facilities. In this exercise, you will select a portion of a time-series dataset and you will plot that period.\n",
    "\n",
    "The data to use is stored in a DataFrame called `climate_change`, which has a time-index with dates of measurements and two data columns: `\"co2\"` and `\"relative_temp\"`."
   ]
  },
  {
   "cell_type": "code",
   "execution_count": null,
   "metadata": {},
   "outputs": [],
   "source": [
    "import matplotlib.pyplot as plt\n",
    "\n",
    "# Use plt.subplots to create fig and ax\n",
    "fig, ax = plt.subplots()\n",
    "\n",
    "# Create variable seventies with data from \"1970-01-01\" to \"1979-12-31\"\n",
    "seventies = climate_change[\"1970-01-01\":\"1979-12-31\"]\n",
    "\n",
    "# Add the time-series for \"co2\" data from seventies to the plot\n",
    "ax.plot(seventies.index, seventies[\"co2\"])\n",
    "\n",
    "# Show the figure\n",
    "plt.show()"
   ]
  },
  {
   "cell_type": "markdown",
   "metadata": {},
   "source": [
    "## Plotting time-series with different variables"
   ]
  },
  {
   "cell_type": "code",
   "execution_count": null,
   "metadata": {},
   "outputs": [],
   "source": [
    "# using twin axes\n",
    "fig, ax = plt.subplots()\n",
    "ax.plot(climate_change.index, climate_change['co2'])\n",
    "ax.set_xlabel('Time')\n",
    "ax.set_ylabel('CO2 (ppm)')\n",
    "\n",
    "ax2 = ax.twinx() # --> add twin axes to share \n",
    "ax2.plot(climate_change.index, climate_change['relative_temp'])\n",
    "ax2.set_ylabel('Relative temperature (Celsius)')\n",
    "plt.show()\n",
    "\n",
    "# adding color --> .plot(color=\n",
    "fig, ax = plt.subplots()\n",
    "ax.plot(climate_change.index, climate_change['co2'], color='b')\n",
    "ax.set_xlabel('Time')\n",
    "ax.set_ylabel('CO2 (ppm)', color='b')\n",
    "\n",
    "ax2 = ax.twinx() # --> add twin axes to share \n",
    "ax2.plot(climate_change.index, climate_change['relative_temp'], color='r')\n",
    "ax2.set_ylabel('Relative temperature (Celsius)', color='r')\n",
    "plt.show()\n",
    "\n",
    "# coloring the ticks --> .tick_params(axis, colors=)\n",
    "fig, ax = plt.subplots()\n",
    "ax.plot(climate_change.index, climate_change['co2'], color='b')\n",
    "ax.set_xlabel('Time')\n",
    "ax.set_ylabel('CO2 (ppm)', color='b')\n",
    "ax.tick_params('y', colors='b')\n",
    "\n",
    "ax2 = ax.twinx() # --> add twin axes to share \n",
    "ax2.plot(climate_change.index, climate_change['relative_temp'], color='r')\n",
    "ax2.set_ylabel('Relative temperature (Celsius)', color='r')\n",
    "ax2.tick_params('y', colors='r')\n",
    "plt.show()\n",
    "\n",
    "# implement as a function\n",
    "def plot_timeseries(axes, x, y, color, xlabel, ylabel):\n",
    "    axes.plot(x, y, color=color)\n",
    "    axes.set_xlabel(xlabel)\n",
    "    axes.set_ylabel(ylabel)\n",
    "    axes.tick_params('y', colors=color)\n",
    "\n",
    "# using the function\n",
    "fig, ax = plt.subplots()\n",
    "plot_timeseries(ax, climate_change.index, climate_change['co2'], 'blue', 'Time', 'C02 (ppm)')\n",
    "ax2 = ax.twinx()\n",
    "plot_timeseries(ax, climate_change.index, climate_change['relative_temp'], 'red', 'Time', 'Relative temperature (Celsius)')\n",
    "plt.show()"
   ]
  },
  {
   "cell_type": "markdown",
   "metadata": {},
   "source": [
    "### Plotting two variables\n",
    "If you want to plot two time-series variables that were recorded at the same times, you can add both of them to the same subplot.\n",
    "\n",
    "If the variables have very different scales, you'll want to make sure that you plot them in different twin Axes objects. These objects can share one axis (for example, the time, or x-axis) while not sharing the other (the y-axis).\n",
    "\n",
    "To create a twin Axes object that shares the x-axis, we use the `twinx` method.\n",
    "\n",
    "In this exercise, you'll have access to a DataFrame that has the `climate_change` data loaded into it. This DataFrame was loaded with the `\"date\"` column set as a `DateTimeIndex`, and it has a column called `\"co2\"` with carbon dioxide measurements and a column called `\"relative_temp\"` with temperature measurements."
   ]
  },
  {
   "cell_type": "code",
   "execution_count": null,
   "metadata": {},
   "outputs": [],
   "source": [
    "import matplotlib.pyplot as plt\n",
    "\n",
    "# Initalize a Figure and Axes\n",
    "fig, ax = plt.subplots()\n",
    "\n",
    "# Plot the CO2 variable in blue\n",
    "ax.plot(climate_change.index, climate_change['co2'], color='b')\n",
    "\n",
    "# Create a twin Axes that shares the x-axis\n",
    "ax2 = ax.twinx()\n",
    "\n",
    "# Plot the relative temperature in red\n",
    "ax2.plot(climate_change.index, climate_change['relative_temp'], color='r')\n",
    "\n",
    "plt.show()"
   ]
  },
  {
   "cell_type": "markdown",
   "metadata": {},
   "source": [
    "### Defining a function that plots time-series data\n",
    "Once you realize that a particular section of code that you have written is useful, it is a good idea to define a function that saves that section of code for you, rather than copying it to other parts of your program where you would like to use this code.\n",
    "\n",
    "Here, we will define a function that takes inputs such as a time variable and some other variable and plots them as x and y inputs. Then, it sets the labels on the x- and y-axis and sets the colors of the y-axis label, the y-axis ticks and the tick labels."
   ]
  },
  {
   "cell_type": "code",
   "execution_count": 1,
   "metadata": {},
   "outputs": [],
   "source": [
    "# Define a function called plot_timeseries\n",
    "def plot_timeseries(axes, x, y, color, xlabel, ylabel):\n",
    "\n",
    "  # Plot the inputs x,y in the provided color\n",
    "  axes.plot(x, y, color=color)\n",
    "\n",
    "  # Set the x-axis label\n",
    "  axes.set_xlabel(xlabel)\n",
    "\n",
    "  # Set the y-axis label\n",
    "  axes.set_ylabel(ylabel, color=color)\n",
    "\n",
    "  # Set the colors tick params for y-axis\n",
    "  axes.tick_params('y', colors=color)"
   ]
  },
  {
   "cell_type": "markdown",
   "metadata": {},
   "source": [
    "### Using a plotting function\n",
    "Defining functions allows us to reuse the same code without having to repeat all of it. Programmers sometimes say **\"Don't repeat yourself\"**.\n",
    "\n",
    "In the previous exercise, you defined a function called `plot_timeseries`:\n",
    "\n",
    "`plot_timeseries(axes, x, y, color, xlabel, ylabel)`\n",
    "\n",
    "that takes an Axes object (as the argument `axes`), time-series data (as `x` and `y` arguments) the name of a color (as a string, provided as the `color` argument) and x-axis and y-axis labels (as `xlabel` and `ylabel` arguments). In this exercise, the function `plot_timeseries` is already defined and provided to you.\n",
    "\n",
    "Use this function to plot the `climate_change` time-series data, provided as a pandas DataFrame object that has a DateTimeIndex with the dates of the measurements and `co2` and `relative_temp` columns."
   ]
  },
  {
   "cell_type": "code",
   "execution_count": null,
   "metadata": {},
   "outputs": [],
   "source": [
    "fig, ax = plt.subplots()\n",
    "\n",
    "# Plot the CO2 levels time-series in blue\n",
    "plot_timeseries(ax, climate_change.index, climate_change['co2'], \"blue\", 'Time (years)', 'CO2 levels')\n",
    "\n",
    "# Create a twin Axes object that shares the x-axis\n",
    "ax2 = ax.twinx()\n",
    "\n",
    "# Plot the relative temperature data in red\n",
    "plot_timeseries(ax, climate_change.index, climate_change['relative_temp'], \"red\", 'Time (years)', \"Relative temperature (Celsius)\")\n",
    "\n",
    "plt.show()"
   ]
  },
  {
   "cell_type": "markdown",
   "metadata": {},
   "source": [
    "## Annotating time-series data"
   ]
  },
  {
   "cell_type": "code",
   "execution_count": null,
   "metadata": {},
   "outputs": [],
   "source": [
    "# customizing arrow properties\n",
    "ax2.annotate(\">1 degree\",\n",
    "             xy=(pd.Timestamp(\"2015-10-06\"), 1),\n",
    "             xytext=(pd.Timestamp('2008-10-06'), -0.2),\n",
    "             arrowprops={'arrowstyle':'->', 'color':'gray'})\n"
   ]
  },
  {
   "cell_type": "markdown",
   "metadata": {},
   "source": [
    "### Annotating a plot of time-series data\n",
    "Annotating a plot allows us to highlight interesting information in the plot. For example, in describing the climate change dataset, we might want to point to the date at which the relative temperature first exceeded 1 degree Celsius.\n",
    "\n",
    "For this, we will use the `annotate` method of the Axes object. In this exercise, you will have the `DataFrame` called `climate_change` loaded into memory. Using the Axes methods, plot only the relative temperature column as a function of dates, and annotate the data."
   ]
  },
  {
   "cell_type": "code",
   "execution_count": null,
   "metadata": {},
   "outputs": [],
   "source": [
    "fig, ax = plt.subplots()\n",
    "\n",
    "# Plot the relative temperature data\n",
    "ax.plot(climate_change.index, climate_change['relative_temp'])\n",
    "\n",
    "# Annotate the date at which temperatures exceeded 1 degree\n",
    "ax.annotate('>1 degree', xy=(pd.Timestamp('2015-10-06'), 1))\n",
    "\n",
    "plt.show()"
   ]
  },
  {
   "cell_type": "markdown",
   "metadata": {},
   "source": [
    "### Plotting time-series: putting it all together\n",
    "In this exercise, you will plot two time-series with different scales on the same Axes, and annotate the data from one of these series.\n",
    "\n",
    "The CO2/temperatures data is provided as a DataFrame called `climate_change`. You should also use the function that we have defined before, called `plot_timeseries`, which takes an Axes object (as the `axes` argument) plots a time-series (provided as `x` and `y` arguments), sets the labels for the x-axis and y-axis and sets the color for the data, and for the y tick/axis labels:\n",
    "\n",
    "`plot_timeseries(axes, x, y, color, xlabel, ylabel)`\n",
    "\n",
    "Then, you will annotate with text an important time-point in the data: on 2015-10-06, when the temperature first rose to above 1 degree over the average."
   ]
  },
  {
   "cell_type": "code",
   "execution_count": null,
   "metadata": {},
   "outputs": [],
   "source": [
    "fig, ax = plt.subplots()\n",
    "\n",
    "# Plot the CO2 levels time-series in blue\n",
    "plot_timeseries(ax, climate_change.index, climate_change['co2'], 'blue', 'Time (years)', 'CO2 levels')\n",
    "\n",
    "# Create an Axes object that shares the x-axis\n",
    "ax2 = ax.twinx()\n",
    "\n",
    "# Plot the relative temperature data in red\n",
    "plot_timeseries(ax2, climate_change.index, climate_change['relative_temp'], 'red', 'Time (years)', 'Relative temp (Celsius)')\n",
    "\n",
    "# Annotate point with relative temperature >1 degree\n",
    "ax2.annotate(\">1 degree\", xytext=(pd.Timestamp('2008-10-06'), -0.2), xy=(pd.Timestamp('2015-10-06'), 1), arrowprops={'arrowstyle':'->', 'color':'gray'})\n",
    "\n",
    "plt.show()"
   ]
  }
 ],
 "metadata": {
  "kernelspec": {
   "display_name": "Python 3",
   "language": "python",
   "name": "python3"
  },
  "language_info": {
   "codemirror_mode": {
    "name": "ipython",
    "version": 3
   },
   "file_extension": ".py",
   "mimetype": "text/x-python",
   "name": "python",
   "nbconvert_exporter": "python",
   "pygments_lexer": "ipython3",
   "version": "3.9.13"
  }
 },
 "nbformat": 4,
 "nbformat_minor": 2
}
