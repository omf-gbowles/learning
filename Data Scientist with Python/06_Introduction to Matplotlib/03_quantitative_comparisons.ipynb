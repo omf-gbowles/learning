{
 "cells": [
  {
   "cell_type": "markdown",
   "metadata": {},
   "source": [
    "## Introduction"
   ]
  },
  {
   "cell_type": "code",
   "execution_count": null,
   "metadata": {},
   "outputs": [],
   "source": [
    "# import data and visualize the data\n",
    "medals = pd.read_csv('', index_col=0)\n",
    "fig, ax = plt.subplots()\n",
    "ax.bar(medals.index, medals['Gold'])\n",
    "plt.show()\n",
    "\n",
    "# rotate the tick labels\n",
    "ax.set_xticklabels(medals.index, rotation=90)\n",
    "\n",
    "# stacked bar chart\n",
    "fig, ax = plt.subplots()\n",
    "ax.bar(medals.index, medals['Gold'])\n",
    "ax.bar(medals.index, medals['Silver'], bottom=medals['Gold']) #--> bottom of the columns data should be at the height of the previous cols data\n",
    "ax.set_xticklabels(medals.index, rotation=90)\n",
    "ax.set_ylabel('Number of medals')\n",
    "plt.show()\n",
    "\n",
    "# visualizing all three\n",
    "fig, ax = plt.subplots()\n",
    "ax.bar(medals.index, medals['Gold'])\n",
    "ax.bar(medals.index, medals['Silver'], bottom=medals['Gold']) #--> bottom of the columns data should be at the height of the previous cols data\n",
    "ax.bar(medals.index, medals['Bronze'], bottom=medals['Gold'] + medals['Silver'])\n",
    "ax.set_xticklabels(medals.index, rotation=90)\n",
    "ax.set_ylabel('Number of medals')\n",
    "plt.show()\n",
    "\n",
    "# adding a legend\n",
    "# 1. add a label arg to each call of bar method\n",
    "fig, ax = plt.subplots()\n",
    "ax.bar(medals.index, medals['Gold'], label='Gold')\n",
    "ax.bar(medals.index, medals['Silver'], bottom=medals['Gold'], label='Silver') #--> bottom of the columns data should be at the height of the previous cols data\n",
    "ax.bar(medals.index, medals['Bronze'], bottom=medals['Gold'] + medals['Silver'], label='Bronze')\n",
    "ax.set_xticklabels(medals.index, rotation=90)\n",
    "ax.set_ylabel('Number of medals')\n",
    "ax.legend()\n",
    "plt.show()\n"
   ]
  },
  {
   "cell_type": "markdown",
   "metadata": {},
   "source": [
    "### Bar chart\n",
    "Bar charts visualize data that is organized according to categories as a series of bars, where the height of each bar represents the values of the data in this category.\n",
    "\n",
    "For example, in this exercise, you will visualize the number of gold medals won by each country in the provided `medals` DataFrame. The DataFrame contains the countries as the index, and a column called `\"Gold\"` that contains the number of gold medals won by each country, according to their rows."
   ]
  },
  {
   "cell_type": "code",
   "execution_count": null,
   "metadata": {},
   "outputs": [],
   "source": [
    "fig, ax = plt.subplots()\n",
    "\n",
    "# Plot a bar-chart of gold medals as a function of country\n",
    "ax.bar(medals.index, medals['Gold'])\n",
    "\n",
    "# Set the x-axis tick labels to the country names\n",
    "ax.set_xticklabels(medals.index, rotation=90)\n",
    "\n",
    "# Set the y-axis label\n",
    "ax.set_ylabel('Number of medals')\n",
    "\n",
    "plt.show()"
   ]
  },
  {
   "cell_type": "markdown",
   "metadata": {},
   "source": [
    "### Stacked bar chart\n",
    "A stacked bar chart contains bars, where the height of each bar represents values. In addition, stacked on top of the first variable may be another variable. The additional height of this bar represents the value of this variable. And you can add more bars on top of that.\n",
    "\n",
    "In this exercise, you will have access to a DataFrame called medals that contains an index that holds the names of different countries, and three columns: `\"Gold\"`, `\"Silver\"` and `\"Bronze\"`. You will also have a Figure, `fig`, and Axes, `ax`, that you can add data to.\n",
    "\n",
    "You will create a stacked bar chart that shows the number of gold, silver, and bronze medals won by each country, and you will add labels and create a legend that indicates which bars represent which medals."
   ]
  },
  {
   "cell_type": "code",
   "execution_count": null,
   "metadata": {},
   "outputs": [],
   "source": [
    "# Add bars for \"Gold\" with the label \"Gold\"\n",
    "ax.bar(medals.index, medals['Gold'], label='Gold')\n",
    "\n",
    "# Stack bars for \"Silver\" on top with label \"Silver\"\n",
    "ax.bar(medals.index, medals['Silver'], bottom=medals['Gold'], label='Silver')\n",
    "\n",
    "# Stack bars for \"Bronze\" on top of that with label \"Bronze\"\n",
    "ax.bar(medals.index, medals['Bronze'], bottom=medals['Gold'] + medals['Silver'], label='Bronze')\n",
    "\n",
    "# Display the legend\n",
    "ax.legend()\n",
    "\n",
    "plt.show()"
   ]
  },
  {
   "cell_type": "markdown",
   "metadata": {},
   "source": [
    "## Histograms"
   ]
  },
  {
   "cell_type": "code",
   "execution_count": null,
   "metadata": {},
   "outputs": [],
   "source": [
    "# histograms --> default n bins = 10\n",
    "fig, ax = plt.subplots()\n",
    "ax.hist(mens_rowing['Height'], label='Rowing', bins=5)\n",
    "ax.hist(mens_gymnastics['Height'], label='Gymnastics', bins=5)\n",
    "ax.set_xlabels('Height (cm)')\n",
    "ax.set_ylabels('# of observations')\n",
    "ax.legend()\n",
    "plt.show()\n",
    "\n",
    "# setting bin boundaries\n",
    "bins = [150, 160, 170, 180, 190, 200, 210]\n",
    "\n",
    "# transparency\n",
    "ax.hist(mens_rowing['Height'], label='Rowing', histtype='step')\n",
    "ax.hist(mens_gymnastics['Height'], label='Gymnastics', histtype='step')"
   ]
  },
  {
   "cell_type": "markdown",
   "metadata": {},
   "source": [
    "### Creating histograms\n",
    "Histograms show the full distribution of a variable. In this exercise, we will display the distribution of weights of medalists in gymnastics and in rowing in the 2016 Olympic games for a comparison between them.\n",
    "\n",
    "You will have two DataFrames to use. The first is called `mens_rowing` and includes information about the medalists in the men's rowing events. The other is called `mens_gymnastics` and includes information about medalists in all of the Gymnastics events."
   ]
  },
  {
   "cell_type": "code",
   "execution_count": null,
   "metadata": {},
   "outputs": [],
   "source": [
    "fig, ax = plt.subplots()\n",
    "# Plot a histogram of \"Weight\" for mens_rowing\n",
    "ax.hist(mens_rowing['Weight'])\n",
    "\n",
    "# Compare to histogram of \"Weight\" for mens_gymnastics\n",
    "ax.hist(mens_gymnastics['Weight'])\n",
    "\n",
    "# Set the x-axis label to \"Weight (kg)\"\n",
    "ax.set_xlabel('Weight (kg)')\n",
    "\n",
    "# Set the y-axis label to \"# of observations\"\n",
    "ax.set_ylabel('# of observations')\n",
    "\n",
    "plt.show()"
   ]
  },
  {
   "cell_type": "markdown",
   "metadata": {},
   "source": [
    "### \"Step\" histogram\n",
    "Histograms allow us to see the distributions of the data in different groups in our data. In this exercise, you will select groups from the Summer 2016 Olympic Games medalist dataset to compare the height of medalist athletes in two different sports.\n",
    "\n",
    "The data is stored in a pandas DataFrame object called `summer_2016_medals` that has a column \"Height\". In addition, you are provided a pandas GroupBy object that has been grouped by the sport.\n",
    "\n",
    "In this exercise, you will visualize and label the histograms of two sports: \"Gymnastics\" and \"Rowing\" and see the marked difference between medalists in these two sports."
   ]
  },
  {
   "cell_type": "code",
   "execution_count": null,
   "metadata": {},
   "outputs": [],
   "source": [
    "fig, ax = plt.subplots()\n",
    "\n",
    "# Plot a histogram of \"Weight\" for mens_rowing\n",
    "ax.hist(mens_rowing['Weight'], label='Rowing', histtype='step', bins=5)\n",
    "\n",
    "# Compare to histogram of \"Weight\" for mens_gymnastics\n",
    "ax.hist(mens_gymnastics['Weight'], label='Gymnastics', histtype='step', bins=5)\n",
    "\n",
    "ax.set_xlabel(\"Weight (kg)\")\n",
    "ax.set_ylabel(\"# of observations\")\n",
    "\n",
    "# Add the legend and show the Figure\n",
    "ax.legend()\n",
    "plt.show()"
   ]
  },
  {
   "cell_type": "markdown",
   "metadata": {},
   "source": [
    "## Statistical plotting"
   ]
  },
  {
   "cell_type": "code",
   "execution_count": null,
   "metadata": {},
   "outputs": [],
   "source": [
    "# adding error bars to bar charts\n",
    "fig, ax = plt.subplots()\n",
    "\n",
    "ax.bar('Rowing',\n",
    "       mens_rowing['Height'].mean(),\n",
    "       yerr=mens_rowing['Height'].std())\n",
    "\n",
    "ax.bar('Gymnastics',\n",
    "       mens_gymnastics['Heigh'].mean(),\n",
    "       yerr=mens_gymnastics['Height'].std())\n",
    "\n",
    "# adding error bars to line plots\n",
    "ax.errorbar(seattle_weather['MONTH'],\n",
    "            seattle_weather['MLY-TAVG-NORMAL'],\n",
    "            yerr=seattle_weather['MLY-TAVG-STDDEV'])\n",
    "\n",
    "# adding boxplots\n",
    "fig, ax = plt.subplots()\n",
    "ax.boxplot([mens_rowings['Height'],\n",
    "            mens_gymnastics['Height']])\n",
    "ax.set_xticklabels(['Rowing', 'Gymnastics'])\n",
    "ax.set_ylabel('Height (cm)')\n",
    "plt.show()"
   ]
  },
  {
   "cell_type": "markdown",
   "metadata": {},
   "source": [
    "### Adding error-bars to a bar chart\n",
    "Statistical plotting techniques add quantitative information for comparisons into the visualization. For example, in this exercise, we will add error bars that quantify not only the difference in the means of the height of medalists in the 2016 Olympic Games, but also the standard deviation of each of these groups, as a way to assess whether the difference is substantial relative to the variability within each group.\n",
    "\n",
    "For the purpose of this exercise, you will have two DataFrames: `mens_rowing` holds data about the medalists in the rowing events and `mens_gymnastics` will hold information about the medalists in the gymnastics events."
   ]
  },
  {
   "cell_type": "code",
   "execution_count": null,
   "metadata": {},
   "outputs": [],
   "source": [
    "fig, ax = plt.subplots()\n",
    "\n",
    "# Add a bar for the rowing \"Height\" column mean/std\n",
    "ax.bar(\"Rowing\", mens_rowing['Height'].mean(), yerr=mens_rowing['Height'].std())\n",
    "\n",
    "# Add a bar for the gymnastics \"Height\" column mean/std\n",
    "ax.bar('Gymnastics', mens_gymnastics['Height'].mean(), yerr=mens_gymnastics['Height'].std())\n",
    "\n",
    "# Label the y-axis\n",
    "ax.set_ylabel('Height (cm)')\n",
    "\n",
    "plt.show()"
   ]
  },
  {
   "cell_type": "markdown",
   "metadata": {},
   "source": [
    "### Adding error-bars to a plot\n",
    "Adding error-bars to a plot is done by using the `errorbar` method of the `Axes` object.\n",
    "\n",
    "Here, you have two DataFrames loaded: `seattle_weather` has data about the weather in Seattle and `austin_weather` has data about the weather in Austin. Each DataFrame has a column `\"MONTH\"` that has the names of the months, a column `\"MLY-TAVG-NORMAL\"` that has the average temperature in each month and a column `\"MLY-TAVG-STDDEV\"` that has the standard deviation of the temperatures across years.\n",
    "\n",
    "In the exercise, you will plot the mean temperature across months and add the standard deviation at each point as y errorbars."
   ]
  },
  {
   "cell_type": "code",
   "execution_count": null,
   "metadata": {},
   "outputs": [],
   "source": [
    "fig, ax = plt.subplots()\n",
    "\n",
    "# Add Seattle temperature data in each month with error bars\n",
    "ax.errorbar(seattle_weather['MONTH'], seattle_weather['MLY-TAVG-NORMAL'], seattle_weather['MLY-TAVG-STDDEV'])\n",
    "\n",
    "# Add Austin temperature data in each month with error bars\n",
    "ax.errorbar(austin_weather['MONTH'], austin_weather['MLY-TAVG-NORMAL'], austin_weather['MLY-TAVG-STDDEV'])\n",
    "\n",
    "# Set the y-axis label\n",
    "ax.set_ylabel('Temperature (Fahrenheit)')\n",
    "\n",
    "plt.show()"
   ]
  },
  {
   "cell_type": "markdown",
   "metadata": {},
   "source": [
    "### Creating boxplots\n",
    "Boxplots provide additional information about the distribution of the data that they represent. They tell us what the median of the distribution is, what the inter-quartile range is and also what the expected range of approximately 99% of the data should be. Outliers beyond this range are particularly highlighted.\n",
    "\n",
    "In this exercise, you will use the data about medalist heights that you previously visualized as histograms, and as bar charts with error bars, and you will visualize it as boxplots.\n",
    "\n",
    "Again, you will have the `mens_rowing` and `mens_gymnastics` DataFrames available to you, and both of these DataFrames have columns called `\"Height\"` that you will compare."
   ]
  },
  {
   "cell_type": "code",
   "execution_count": null,
   "metadata": {},
   "outputs": [],
   "source": [
    "fig, ax = plt.subplots()\n",
    "\n",
    "# Add a boxplot for the \"Height\" column in the DataFrames\n",
    "ax.boxplot([mens_rowing['Height'], mens_gymnastics['Height']])\n",
    "\n",
    "# Add x-axis tick labels:\n",
    "ax.set_xticklabels(['Rowing', 'Gymnastics'])\n",
    "\n",
    "# Add a y-axis label\n",
    "ax.set_ylabel('Height (cm)')\n",
    "\n",
    "plt.show()"
   ]
  },
  {
   "cell_type": "markdown",
   "metadata": {},
   "source": [
    "## Quantitative comparisons: scatter plots"
   ]
  },
  {
   "cell_type": "code",
   "execution_count": null,
   "metadata": {},
   "outputs": [],
   "source": [
    "# introducing scatter plots\n",
    "fig, ax = plt.subplots()\n",
    "ax.scatter(climate_change['co2'], climate_change['relative_temp'])\n",
    "ax.set_xlabel('CO2 (ppm)')\n",
    "ax.set_ylabel('Relative Temperature (Celsius)')\n",
    "plt.show()\n",
    "\n",
    "# customizing scatter plots\n",
    "eighties = climate_change['1980-01-01':'1989-12-31']\n",
    "nineties = climate_change['1990-01-01':'1999-12-31']\n",
    "fig, ax = plt.subplots()\n",
    "ax.scatter(eighties['co2'], eighties['relative_temp'], color='r', label='eighties')\n",
    "ax.scatter(nineties['co2'], nineties['relative_temp'], color='b', label='nineties')\n",
    "ax.legend()\n",
    "ax.set_xlabel('CO2 (ppm)')\n",
    "ax.set_ylabel('Relative temperature (Celsius)')\n",
    "plt.show()\n",
    "\n",
    "# encoding a third variable by color --> use the c argument in the scatter\n",
    "fig, ax = plt.subplots()\n",
    "ax.scatter(climate_change['co2'], climate_change['relative_temp'], c=climate_change.index)\n",
    "ax.set_xlabel('CO2 (ppm)')\n",
    "ax.set_ylabel('Relative temperature (Celsius)')\n",
    "plt.show()"
   ]
  },
  {
   "cell_type": "markdown",
   "metadata": {},
   "source": [
    "### Simple scatter plot\n",
    "Scatter are a bi-variate visualization technique. They plot each record in the data as a point. The location of each point is determined by the value of two variables: the first variable determines the distance along the x-axis and the second variable determines the height along the y-axis.\n",
    "\n",
    "In this exercise, you will create a scatter plot of the `climate_change` data. This DataFrame, which is already loaded, has a column `\"co2\"` that indicates the measurements of carbon dioxide every month and another column, `\"relative_temp\"` that indicates the temperature measured at the same time."
   ]
  },
  {
   "cell_type": "code",
   "execution_count": null,
   "metadata": {},
   "outputs": [],
   "source": [
    "fig, ax = plt.subplots()\n",
    "\n",
    "# Add data: \"co2\" on x-axis, \"relative_temp\" on y-axis\n",
    "ax.scatter(climate_change['co2'], climate_change['relative_temp'])\n",
    "\n",
    "# Set the x-axis label to \"CO2 (ppm)\"\n",
    "ax.set_xlabel('CO2 (ppm)')\n",
    "\n",
    "# Set the y-axis label to \"Relative temperature (C)\"\n",
    "ax.set_ylabel('Relative temperature (C)')\n",
    "\n",
    "plt.show()"
   ]
  },
  {
   "cell_type": "markdown",
   "metadata": {},
   "source": [
    "### Encoding time by color\n",
    "The screen only has two dimensions, but we can encode another dimension in the scatter plot using color. Here, we will visualize the `climate_change` dataset, plotting a scatter plot of the `\"co2\"` column, on the x-axis, against the `\"relative_temp\"` column, on the y-axis. We will encode time using the color dimension, with earlier times appearing as darker shades of blue and later times appearing as brighter shades of yellow."
   ]
  },
  {
   "cell_type": "code",
   "execution_count": null,
   "metadata": {},
   "outputs": [],
   "source": [
    "fig, ax = plt.subplots()\n",
    "\n",
    "# Add data: \"co2\", \"relative_temp\" as x-y, index as color\n",
    "ax.scatter(climate_change['co2'], climate_change['relative_temp'], c=climate_change.index)\n",
    "\n",
    "# Set the x-axis label to \"CO2 (ppm)\"\n",
    "ax.set_xlabel('CO2 (ppm)')\n",
    "\n",
    "# Set the y-axis label to \"Relative temperature (C)\"\n",
    "ax.set_ylabel('Relative temperature (C)')\n",
    "\n",
    "plt.show()"
   ]
  }
 ],
 "metadata": {
  "language_info": {
   "name": "python"
  }
 },
 "nbformat": 4,
 "nbformat_minor": 2
}
