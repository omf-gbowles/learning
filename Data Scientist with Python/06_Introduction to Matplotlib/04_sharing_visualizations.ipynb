{
 "cells": [
  {
   "cell_type": "markdown",
   "metadata": {},
   "source": [
    "## Introduction"
   ]
  },
  {
   "cell_type": "code",
   "execution_count": 1,
   "metadata": {},
   "outputs": [
    {
     "data": {
      "image/png": "[encoded data removed]",
      "text/plain": [
       "<Figure size 640x480 with 1 Axes>"
      ]
     },
     "metadata": {},
     "output_type": "display_data"
    }
   ],
   "source": [
    "import matplotlib.pyplot as plt\n",
    "\n",
    "# changing plot style\n",
    "# choosing a style\n",
    "plt.style.use('ggplot')\n",
    "fig, ax = plt.subplots()\n",
    "ax.plot([1,2,3,4], [2, 4, 5, 7])\n",
    "ax.plot([1,2,3,4], [1,3,5,7])\n",
    "ax.set_xlabel('Num')\n",
    "ax.set_ylabel('# obs')\n",
    "plt.show()\n",
    "\n",
    "# back to default\n",
    "plt.style.use('default')\n",
    "\n",
    "# available styles\n",
    "# https://matplotlib.org/stable/gallery/style_sheets/style_sheets_reference.html"
   ]
  },
  {
   "cell_type": "markdown",
   "metadata": {},
   "source": [
    "## Saving your visualizations"
   ]
  },
  {
   "cell_type": "code",
   "execution_count": null,
   "metadata": {},
   "outputs": [],
   "source": [
    "fig, ax = plt.subplots()\n",
    "ax.bar(medals.index, medals['Gold'])\n",
    "ax.set_xticklabels(medals.index, rotation=90)\n",
    "ax.set_ylabel('Number of medals')\n",
    "\n",
    "fig.savefig('gold_medals.png')"
   ]
  },
  {
   "cell_type": "code",
   "execution_count": 3,
   "metadata": {},
   "outputs": [
    {
     "name": "stderr",
     "output_type": "stream",
     "text": [
      "C:\\Users\\Geoff\\AppData\\Local\\Temp\\ipykernel_22132\\94396898.py:4: MatplotlibDeprecationWarning: savefig() got unexpected keyword argument \"quality\" which is no longer supported as of 3.3 and will become an error in 3.6\n",
      "  fig.savefig('gold_medals.jpg', quality=50) # 1-100 but avoid num above 95\n"
     ]
    }
   ],
   "source": [
    "# different file formats\n",
    "fig.savefig('gold_medals.jpg')\n",
    "\n",
    "fig.savefig('gold_medals.jpg', quality=50) # 1-100 but avoid num above 95\n",
    "\n",
    "fig.savefig('gold_medals.svg')\n",
    "\n",
    "# resolution\n",
    "fig.savefig('gold_medals.png', dpi=300)\n",
    "\n",
    "# size\n",
    "fig.set_size_inches([5, 3])\n"
   ]
  },
  {
   "cell_type": "markdown",
   "metadata": {},
   "source": [
    "## Automating figures from data"
   ]
  },
  {
   "cell_type": "code",
   "execution_count": null,
   "metadata": {},
   "outputs": [],
   "source": [
    "# getting unique values of a column\n",
    "sports = summer_2016_medals['Sport'].unique()\n",
    "\n",
    "# bar chart of heights for all sports\n",
    "fig, ax = plt.subplots()\n",
    "\n",
    "for sport in sports:\n",
    "    sport_df = summer_2016_medals[summer_2016_medals['Sport'] == sport]\n",
    "    ax.bar(sport, sport_df['Height'].mean(),\n",
    "           yerr=sport_df['Height'].std())\n",
    "ax.set_ylabel('Height (cm)')\n",
    "ax.set_xticklabels(sports, rotation=90)\n",
    "plt.show()"
   ]
  },
  {
   "cell_type": "markdown",
   "metadata": {},
   "source": [
    "### Unique values of a column\n",
    "One of the main strengths of Matplotlib is that it can be automated to adapt to the data that it receives as input. For example, if you receive data that has an unknown number of categories, you can still create a bar plot that has bars for each category.\n",
    "\n",
    "In this exercise and the next, you will be visualizing the weight of athletes in the 2016 summer Olympic Games again, from a dataset that has some unknown number of branches of sports in it. This will be loaded into memory as a pandas `DataFrame` object called `summer_2016_medals`, which has a column called `\"Sport\"` that tells you to which branch of sport each row corresponds. There is also a `\"Weight\"` column that tells you the weight of each athlete.\n",
    "\n",
    "In this exercise, we will extract the unique values of the `\"Sport\"` column"
   ]
  },
  {
   "cell_type": "code",
   "execution_count": null,
   "metadata": {},
   "outputs": [],
   "source": [
    "# Extract the \"Sport\" column\n",
    "sports_column = summer_2016_medals['Sport']\n",
    "\n",
    "# Find the unique values of the \"Sport\" column\n",
    "sports = sports_column.unique()\n",
    "\n",
    "# Print out the unique sports values\n",
    "print(sports)"
   ]
  },
  {
   "cell_type": "markdown",
   "metadata": {},
   "source": [
    "### Automate your visualization\n",
    "One of the main strengths of Matplotlib is that it can be automated to adapt to the data that it receives as input. For example, if you receive data that has an unknown number of categories, you can still create a bar plot that has bars for each category.\n",
    "\n",
    "This is what you will do in this exercise. You will be visualizing data about medal winners in the 2016 summer Olympic Games again, but this time you will have a dataset that has some unknown number of branches of sports in it. This will be loaded into memory as a pandas `DataFrame` object called `summer_2016_medals`, which has a column called `\"Sport\"` that tells you to which branch of sport each row corresponds. There is also a `\"Weight\"` column that tells you the weight of each athlete."
   ]
  },
  {
   "cell_type": "code",
   "execution_count": null,
   "metadata": {},
   "outputs": [],
   "source": [
    "fig, ax = plt.subplots()\n",
    "\n",
    "# Loop over the different sports branches\n",
    "for sport in sports:\n",
    "  # Extract the rows only for this sport\n",
    "  sport_df = summer_2016_medals[summer_2016_medals['Sport'] == sport]\n",
    "  # Add a bar for the \"Weight\" mean with std y error bar\n",
    "  ax.bar(sport, sport_df['Weight'].mean(), yerr=sport_df['Weight'].std())\n",
    "\n",
    "ax.set_ylabel(\"Weight\")\n",
    "ax.set_xticklabels(sports, rotation=90)\n",
    "\n",
    "# Save the figure to file\n",
    "fig.savefig('sports_weights.png')"
   ]
  }
 ],
 "metadata": {
  "kernelspec": {
   "display_name": "Python 3",
   "language": "python",
   "name": "python3"
  },
  "language_info": {
   "codemirror_mode": {
    "name": "ipython",
    "version": 3
   },
   "file_extension": ".py",
   "mimetype": "text/x-python",
   "name": "python",
   "nbconvert_exporter": "python",
   "pygments_lexer": "ipython3",
   "version": "3.9.13"
  }
 },
 "nbformat": 4,
 "nbformat_minor": 2
}
